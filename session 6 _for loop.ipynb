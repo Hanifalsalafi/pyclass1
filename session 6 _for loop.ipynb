{
 "cells": [
  {
   "cell_type": "code",
   "execution_count": 38,
   "id": "9f97b89f",
   "metadata": {},
   "outputs": [
    {
     "name": "stdout",
     "output_type": "stream",
     "text": [
      "Testing chips: chips1\n",
      "Testing chips: chips3\n",
      "This the best chips \n",
      "c\n",
      "h\n",
      "i\n",
      "p\n",
      "s\n",
      "3\n"
     ]
    }
   ],
   "source": [
    " fair_chips = (\"chips1,chips2,chips3,chips4\")\n",
    "for chips in fair_chips.split(\",\"):\n",
    "    if chips == \"chips2\":\n",
    "        continue\n",
    "    else:\n",
    "        print(\"Testing chips:\",chips)\n",
    "        if chips == \"chips3\":\n",
    "            print(\"This the best chips \")\n",
    "            for char in chips:\n",
    "                print(char)\n",
    "            break"
   ]
  },
  {
   "cell_type": "code",
   "execution_count": 12,
   "id": "2e60890b",
   "metadata": {},
   "outputs": [
    {
     "name": "stdout",
     "output_type": "stream",
     "text": [
      "1\n",
      "2\n",
      "3\n",
      "4\n",
      "5\n",
      "6\n",
      "7\n",
      "8\n",
      "9\n",
      "10\n"
     ]
    }
   ],
   "source": [
    "for number in range(1,11):\n",
    "    print(number)"
   ]
  },
  {
   "cell_type": "code",
   "execution_count": 19,
   "id": "e22ec394",
   "metadata": {},
   "outputs": [
    {
     "name": "stdout",
     "output_type": "stream",
     "text": [
      "14\n"
     ]
    }
   ],
   "source": [
    "mystring=\"pythonbootcamp\"\n",
    "mystring[0]\n",
    "length_mystring = len(mystring)\n",
    "print(length_mystring)"
   ]
  },
  {
   "cell_type": "code",
   "execution_count": 30,
   "id": "cdbba585",
   "metadata": {},
   "outputs": [
    {
     "name": "stdout",
     "output_type": "stream",
     "text": [
      "letter at indez 0 is p\n",
      "letter at indez 1 is y\n",
      "letter at indez 2 is t\n",
      "letter at indez 3 is h\n",
      "letter at indez 4 is o\n",
      "letter at indez 5 is n\n",
      "letter at indez 6 is b\n",
      "letter at indez 7 is o\n",
      "letter at indez 8 is o\n",
      "letter at indez 9 is t\n",
      "letter at indez 10 is c\n",
      "letter at indez 11 is a\n",
      "letter at indez 12 is m\n",
      "letter at indez 13 is p\n"
     ]
    }
   ],
   "source": [
    "for index_num in range(0,length_mystring):\n",
    "    print(\"letter at indez\",str(index_num), \"is\", mystring[index_num])"
   ]
  },
  {
   "cell_type": "code",
   "execution_count": 39,
   "id": "d971cfeb",
   "metadata": {},
   "outputs": [
    {
     "name": "stdout",
     "output_type": "stream",
     "text": [
      "letter at 0 is p\n",
      "letter at 1 is y\n",
      "letter at 2 is t\n",
      "letter at 3 is h\n",
      "letter at 4 is o\n",
      "letter at 5 is n\n",
      "letter at 6 is b\n",
      "letter at 7 is o\n",
      "letter at 8 is o\n",
      "letter at 9 is t\n",
      "letter at 10 is c\n",
      "letter at 11 is a\n",
      "letter at 12 is m\n",
      "letter at 13 is p\n"
     ]
    }
   ],
   "source": [
    "for position,char in enumerate(mystring):\n",
    "    print(\"letter at\",str(position), \"is\",char)"
   ]
  },
  {
   "cell_type": "code",
   "execution_count": 53,
   "id": "db9a9862",
   "metadata": {},
   "outputs": [
    {
     "name": "stdout",
     "output_type": "stream",
     "text": [
      "1\n",
      "2 The the number is even\n",
      "3\n",
      "4 The the number is even\n",
      "5\n",
      "6 The the number is even\n",
      "7\n",
      "8 The the number is even\n",
      "9\n",
      "10 The the number is even\n",
      "1\n",
      "1\n",
      "12 The the number is even\n",
      "1\n",
      "3\n",
      "14 The the number is even\n",
      "1\n",
      "5\n",
      "16 The the number is even\n",
      "1\n",
      "7\n",
      "18 The the number is even\n",
      "1\n",
      "9\n",
      "20 The the number is even\n",
      "2\n",
      "1\n",
      "22 The the number is even\n",
      "2\n",
      "3\n",
      "24 The the number is even\n",
      "2\n",
      "5\n",
      "26 The the number is even\n",
      "2\n",
      "7\n",
      "28 The the number is even\n",
      "2\n",
      "9\n",
      "30 The the number is even\n",
      "3\n",
      "1\n",
      "32 The the number is even\n",
      "3\n",
      "3\n",
      "34 The the number is even\n",
      "3\n",
      "5\n",
      "36 The the number is even\n",
      "3\n",
      "7\n",
      "38 The the number is even\n",
      "3\n",
      "9\n",
      "40 The the number is even\n",
      "4\n",
      "1\n",
      "42 The the number is even\n",
      "4\n",
      "3\n",
      "44 The the number is even\n",
      "4\n",
      "5\n",
      "46 The the number is even\n",
      "4\n",
      "7\n",
      "48 The the number is even\n",
      "4\n",
      "9\n",
      "50 The the number is even\n"
     ]
    }
   ],
   "source": [
    "for number in range(1,51):\n",
    "    if (number%2==0):\n",
    "        print(number,\"The the number is even\")\n",
    "    else:\n",
    "        st_num=str(number)\n",
    "        print(st_num[0])\n",
    "        if len(st_num)>1:\n",
    "            print(st_num[1])\n",
    "        "
   ]
  },
  {
   "cell_type": "code",
   "execution_count": null,
   "id": "3c74ebef",
   "metadata": {},
   "outputs": [],
   "source": []
  }
 ],
 "metadata": {
  "kernelspec": {
   "display_name": "Python 3",
   "language": "python",
   "name": "python3"
  },
  "language_info": {
   "codemirror_mode": {
    "name": "ipython",
    "version": 3
   },
   "file_extension": ".py",
   "mimetype": "text/x-python",
   "name": "python",
   "nbconvert_exporter": "python",
   "pygments_lexer": "ipython3",
   "version": "3.6.13"
  }
 },
 "nbformat": 4,
 "nbformat_minor": 5
}
