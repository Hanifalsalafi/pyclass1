{
 "cells": [
  {
   "cell_type": "code",
   "execution_count": 7,
   "id": "b3bea679",
   "metadata": {},
   "outputs": [
    {
     "data": {
      "text/plain": [
       "{'Aman': 23, 'Hanif': 34, 'Hasan': 45}"
      ]
     },
     "execution_count": 7,
     "metadata": {},
     "output_type": "execute_result"
    }
   ],
   "source": [
    "Student_rn={\"Aman\":23,\"Hanif\":34,\"Hasan\":45}\n",
    "Student_rn"
   ]
  },
  {
   "cell_type": "code",
   "execution_count": 9,
   "id": "772970b3",
   "metadata": {},
   "outputs": [
    {
     "data": {
      "text/plain": [
       "dict_keys(['Aman', 'Hanif', 'Hasan'])"
      ]
     },
     "execution_count": 9,
     "metadata": {},
     "output_type": "execute_result"
    }
   ],
   "source": [
    "Student_rn.keys()"
   ]
  },
  {
   "cell_type": "code",
   "execution_count": 11,
   "id": "efe4da2e",
   "metadata": {},
   "outputs": [
    {
     "data": {
      "text/plain": [
       "dict_values([23, 34, 45])"
      ]
     },
     "execution_count": 11,
     "metadata": {},
     "output_type": "execute_result"
    }
   ],
   "source": [
    "Student_rn.values()"
   ]
  },
  {
   "cell_type": "code",
   "execution_count": 36,
   "id": "a5d55e56",
   "metadata": {},
   "outputs": [
    {
     "data": {
      "text/plain": [
       "{'Aman': 23, 'Hasan': 45, 'laily': 56}"
      ]
     },
     "execution_count": 36,
     "metadata": {},
     "output_type": "execute_result"
    }
   ],
   "source": [
    "Student_rn[\"laily\"]=56\n",
    "Student_rn"
   ]
  },
  {
   "cell_type": "code",
   "execution_count": 37,
   "id": "e0f40ae9",
   "metadata": {},
   "outputs": [
    {
     "name": "stdout",
     "output_type": "stream",
     "text": [
      "{'Aman': 23, 'Hasan': 45, 'laily': 56}\n"
     ]
    }
   ],
   "source": [
    "print(Student_rn)"
   ]
  },
  {
   "cell_type": "code",
   "execution_count": 45,
   "id": "e70c5244",
   "metadata": {},
   "outputs": [
    {
     "name": "stdout",
     "output_type": "stream",
     "text": [
      "Invalid Entry!\n",
      "The roll number of Aman is 23\n",
      "Invalid Entry!\n",
      "The roll number of Hasan is 45\n",
      "Invalid Entry!\n",
      "The roll number of laily is 56\n"
     ]
    }
   ],
   "source": [
    "for name, rollnumber in Student_rn.items():\n",
    "    if \"hanif\" in Student_rn.keys():\n",
    "        print(Student_rn[\"hanif\"])\n",
    "    else:\n",
    "        print(\"Invalid Entry!\")\n",
    "\n",
    "    print(\"The roll number of\",name,\"is\",rollnumber)\n",
    "  "
   ]
  },
  {
   "cell_type": "code",
   "execution_count": 46,
   "id": "6b66fb24",
   "metadata": {},
   "outputs": [
    {
     "name": "stdout",
     "output_type": "stream",
     "text": [
      "{'Aman': 22, 'Hasan': 45, 'laily': 56}\n"
     ]
    }
   ],
   "source": [
    "Student_rn[\"Aman\"]=22\n",
    "print(Student_rn)"
   ]
  }
 ],
 "metadata": {
  "kernelspec": {
   "display_name": "Python 3",
   "language": "python",
   "name": "python3"
  },
  "language_info": {
   "codemirror_mode": {
    "name": "ipython",
    "version": 3
   },
   "file_extension": ".py",
   "mimetype": "text/x-python",
   "name": "python",
   "nbconvert_exporter": "python",
   "pygments_lexer": "ipython3",
   "version": "3.6.13"
  }
 },
 "nbformat": 4,
 "nbformat_minor": 5
}
