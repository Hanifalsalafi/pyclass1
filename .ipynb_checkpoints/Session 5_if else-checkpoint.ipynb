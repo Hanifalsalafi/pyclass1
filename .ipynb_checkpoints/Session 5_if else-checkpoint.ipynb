{
 "cells": [
  {
   "cell_type": "code",
   "execution_count": null,
   "id": "41a8e362",
   "metadata": {},
   "outputs": [],
   "source": [
    "string =input(\"Enter the string: \")\n",
    "\n",
    "if (\"a\" in string) and (\"h\" in string):\n",
    "    print(\"a and h present in the string\")\n",
    "elif (\"a\" in string):\n",
    "    print(\"Only a present in the string\")\n",
    "elif (\"h\" in string):\n",
    "    print(\"only h present in the string\")\n",
    "else:\n",
    "    print(\"a and h not in the string\")\n"
   ]
  },
  {
   "cell_type": "code",
   "execution_count": null,
   "id": "07bd212a",
   "metadata": {},
   "outputs": [],
   "source": []
  },
  {
   "cell_type": "code",
   "execution_count": null,
   "id": "acc97f46",
   "metadata": {},
   "outputs": [],
   "source": []
  }
 ],
 "metadata": {
  "kernelspec": {
   "display_name": "Python 3",
   "language": "python",
   "name": "python3"
  },
  "language_info": {
   "codemirror_mode": {
    "name": "ipython",
    "version": 3
   },
   "file_extension": ".py",
   "mimetype": "text/x-python",
   "name": "python",
   "nbconvert_exporter": "python",
   "pygments_lexer": "ipython3",
   "version": "3.6.13"
  }
 },
 "nbformat": 4,
 "nbformat_minor": 5
}
