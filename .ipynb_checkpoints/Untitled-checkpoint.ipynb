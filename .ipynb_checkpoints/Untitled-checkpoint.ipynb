{
 "cells": [
  {
   "cell_type": "code",
   "execution_count": 3,
   "id": "2a64e315",
   "metadata": {},
   "outputs": [
    {
     "name": "stdout",
     "output_type": "stream",
     "text": [
      "['my list of the rule of student', 10, 40, 101, 233]\n"
     ]
    }
   ],
   "source": [
    "mylist=['my list of the rule of student',10,40,101,233]\n",
    "print(mylist)"
   ]
  },
  {
   "cell_type": "code",
   "execution_count": 5,
   "id": "4d42d826",
   "metadata": {},
   "outputs": [
    {
     "data": {
      "text/plain": [
       "'my list of the rule of student'"
      ]
     },
     "execution_count": 5,
     "metadata": {},
     "output_type": "execute_result"
    }
   ],
   "source": [
    "mylist[0]"
   ]
  },
  {
   "cell_type": "code",
   "execution_count": 10,
   "id": "5d5122df",
   "metadata": {},
   "outputs": [
    {
     "name": "stdout",
     "output_type": "stream",
     "text": [
      "['my list of the rule of student', 10, 40, 101, 233, 10, 10, 10]\n"
     ]
    }
   ],
   "source": [
    "mylist.append(10)\n",
    "print(mylist)"
   ]
  },
  {
   "cell_type": "code",
   "execution_count": 13,
   "id": "fc3e9325",
   "metadata": {},
   "outputs": [
    {
     "data": {
      "text/plain": [
       "['my list of the rule of student', 10, 40, 101, 233, 10, 10, 200]"
      ]
     },
     "execution_count": 13,
     "metadata": {},
     "output_type": "execute_result"
    }
   ],
   "source": [
    "mylist[-1]=200\n",
    "mylist"
   ]
  },
  {
   "cell_type": "code",
   "execution_count": 15,
   "id": "57bff95c",
   "metadata": {},
   "outputs": [
    {
     "data": {
      "text/plain": [
       "8"
      ]
     },
     "execution_count": 15,
     "metadata": {},
     "output_type": "execute_result"
    }
   ],
   "source": [
    "len(mylist)"
   ]
  },
  {
   "cell_type": "code",
   "execution_count": 18,
   "id": "9e6b1972",
   "metadata": {},
   "outputs": [
    {
     "data": {
      "text/plain": [
       "False"
      ]
     },
     "execution_count": 18,
     "metadata": {},
     "output_type": "execute_result"
    }
   ],
   "source": [
    "4 in mylist"
   ]
  },
  {
   "cell_type": "code",
   "execution_count": 21,
   "id": "de8eec6d",
   "metadata": {},
   "outputs": [],
   "source": [
    "mylist[0]=10"
   ]
  },
  {
   "cell_type": "code",
   "execution_count": 23,
   "id": "2637fe20",
   "metadata": {},
   "outputs": [
    {
     "name": "stdout",
     "output_type": "stream",
     "text": [
      "[10, 10, 40, 101, 233, 10, 10, 200]\n"
     ]
    }
   ],
   "source": [
    "print(mylist)"
   ]
  },
  {
   "cell_type": "code",
   "execution_count": 25,
   "id": "09e42afa",
   "metadata": {},
   "outputs": [],
   "source": [
    "myver=mylist\n",
    "myver.append(300)"
   ]
  },
  {
   "cell_type": "code",
   "execution_count": 29,
   "id": "af8a5a7b",
   "metadata": {},
   "outputs": [
    {
     "name": "stdout",
     "output_type": "stream",
     "text": [
      "[10, 10, 40, 101, 233, 10, 10, 200, 300, 300]\n"
     ]
    }
   ],
   "source": [
    "print(myver)"
   ]
  },
  {
   "cell_type": "code",
   "execution_count": 31,
   "id": "e669b11d",
   "metadata": {},
   "outputs": [
    {
     "name": "stdout",
     "output_type": "stream",
     "text": [
      "[10, 10, 40, 101, 233, 10, 10, 200, 300, 300, 90]\n"
     ]
    }
   ],
   "source": [
    "myver=mylist.copy()\n",
    "myver.append(90)\n",
    "print(myver)"
   ]
  },
  {
   "cell_type": "code",
   "execution_count": 33,
   "id": "a990849b",
   "metadata": {},
   "outputs": [
    {
     "name": "stdout",
     "output_type": "stream",
     "text": [
      "[10, 10, 40, 101, 233, 10, 10, 200, 300, 300]\n"
     ]
    }
   ],
   "source": [
    "print(mylist)"
   ]
  },
  {
   "cell_type": "code",
   "execution_count": 36,
   "id": "3a0ba255",
   "metadata": {},
   "outputs": [
    {
     "data": {
      "text/plain": [
       "[10,\n",
       " 10,\n",
       " 40,\n",
       " 101,\n",
       " 233,\n",
       " 10,\n",
       " 10,\n",
       " 200,\n",
       " 300,\n",
       " 300,\n",
       " 10,\n",
       " 10,\n",
       " 40,\n",
       " 101,\n",
       " 233,\n",
       " 10,\n",
       " 10,\n",
       " 200,\n",
       " 300,\n",
       " 300,\n",
       " 90]"
      ]
     },
     "execution_count": 36,
     "metadata": {},
     "output_type": "execute_result"
    }
   ],
   "source": [
    "mylist+myver"
   ]
  },
  {
   "cell_type": "code",
   "execution_count": 40,
   "id": "370f64c6",
   "metadata": {},
   "outputs": [
    {
     "name": "stdout",
     "output_type": "stream",
     "text": [
      "[10, 10, 10, 10, 40, 101, 200, 233, 300, 300]\n"
     ]
    }
   ],
   "source": [
    "mylist.sort()\n",
    "print(mylist)"
   ]
  },
  {
   "cell_type": "code",
   "execution_count": 44,
   "id": "470a9d6e",
   "metadata": {},
   "outputs": [
    {
     "name": "stdout",
     "output_type": "stream",
     "text": [
      "10\n",
      "10\n",
      "10\n",
      "10\n",
      "40\n",
      "101\n",
      "200\n",
      "233\n",
      "300\n",
      "300\n"
     ]
    }
   ],
   "source": [
    "for item in mylist:\n",
    "    print(item)"
   ]
  },
  {
   "cell_type": "code",
   "execution_count": 63,
   "id": "08534bd4",
   "metadata": {},
   "outputs": [
    {
     "ename": "NameError",
     "evalue": "name 'Even_lsit' is not defined",
     "output_type": "error",
     "traceback": [
      "\u001b[1;31m---------------------------------------------------------------------------\u001b[0m",
      "\u001b[1;31mNameError\u001b[0m                                 Traceback (most recent call last)",
      "\u001b[1;32m<ipython-input-63-29944fcc61e7>\u001b[0m in \u001b[0;36m<module>\u001b[1;34m\u001b[0m\n\u001b[0;32m      7\u001b[0m     \u001b[1;32melse\u001b[0m\u001b[1;33m:\u001b[0m\u001b[1;33m\u001b[0m\u001b[1;33m\u001b[0m\u001b[0m\n\u001b[0;32m      8\u001b[0m         \u001b[0mOddlist\u001b[0m\u001b[1;33m.\u001b[0m\u001b[0mappend\u001b[0m\u001b[1;33m(\u001b[0m\u001b[0mi\u001b[0m\u001b[1;33m)\u001b[0m\u001b[1;33m\u001b[0m\u001b[1;33m\u001b[0m\u001b[0m\n\u001b[1;32m----> 9\u001b[1;33m \u001b[0mprint\u001b[0m\u001b[1;33m(\u001b[0m\u001b[1;34m\"Evevlist\"\u001b[0m\u001b[1;33m,\u001b[0m\u001b[0mEven_lsit\u001b[0m\u001b[1;33m)\u001b[0m\u001b[1;33m\u001b[0m\u001b[1;33m\u001b[0m\u001b[0m\n\u001b[0m\u001b[0;32m     10\u001b[0m \u001b[0mprint\u001b[0m\u001b[1;33m(\u001b[0m\u001b[1;34m\"Oddlist\"\u001b[0m\u001b[1;33m,\u001b[0m\u001b[0mOddlist\u001b[0m\u001b[1;33m)\u001b[0m\u001b[1;33m\u001b[0m\u001b[1;33m\u001b[0m\u001b[0m\n",
      "\u001b[1;31mNameError\u001b[0m: name 'Even_lsit' is not defined"
     ]
    }
   ],
   "source": [
    "values =[2,5,7,45,16,19,22,18]\n",
    "Even_list=[]\n",
    "Oddlist=[]\n",
    "for i in values:\n",
    "    if i%2==0:\n",
    "        Even_list.append(i)\n",
    "    else:\n",
    "        Oddlist.append(i)\n",
    "print(\"Evevlist\",Even_lsit)\n",
    "print(\"Oddlist\",Oddlist)"
   ]
  },
  {
   "cell_type": "code",
   "execution_count": 72,
   "id": "28e0294c",
   "metadata": {},
   "outputs": [
    {
     "name": "stdout",
     "output_type": "stream",
     "text": [
      "Evevlist =  [2, 16, 22, 18]\n",
      "Oddlist =  [5, 7, 45, 19]\n"
     ]
    }
   ],
   "source": [
    "values =[2,5,7,45,16,19,22,18]\n",
    "Even_list=[]\n",
    "Oddlist=[]\n",
    "for item in values:\n",
    "    if item%2==0:\n",
    "        Even_list.append(item)\n",
    "    else:\n",
    "        Oddlist.append(item)\n",
    "print(\"Evevlist = \",Even_list)\n",
    "print(\"Oddlist = \",Oddlist)"
   ]
  },
  {
   "cell_type": "code",
   "execution_count": null,
   "id": "15c76686",
   "metadata": {},
   "outputs": [],
   "source": []
  }
 ],
 "metadata": {
  "kernelspec": {
   "display_name": "Python 3",
   "language": "python",
   "name": "python3"
  },
  "language_info": {
   "codemirror_mode": {
    "name": "ipython",
    "version": 3
   },
   "file_extension": ".py",
   "mimetype": "text/x-python",
   "name": "python",
   "nbconvert_exporter": "python",
   "pygments_lexer": "ipython3",
   "version": "3.6.13"
  }
 },
 "nbformat": 4,
 "nbformat_minor": 5
}
