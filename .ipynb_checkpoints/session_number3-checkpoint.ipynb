{
 "cells": [
  {
   "cell_type": "code",
   "execution_count": 4,
   "id": "78e0f00c",
   "metadata": {},
   "outputs": [
    {
     "name": "stdout",
     "output_type": "stream",
     "text": [
      "hanifJannat\n"
     ]
    },
    {
     "data": {
      "text/plain": [
       "str"
      ]
     },
     "execution_count": 4,
     "metadata": {},
     "output_type": "execute_result"
    }
   ],
   "source": [
    "a =\"hanif\"\n",
    "b= \"Jannat\"\n",
    "print(a+b)\n",
    "type(a+b)"
   ]
  },
  {
   "cell_type": "code",
   "execution_count": 9,
   "id": "eeb7e965",
   "metadata": {},
   "outputs": [
    {
     "name": "stdout",
     "output_type": "stream",
     "text": [
      "Enter the namedsa\n"
     ]
    },
    {
     "data": {
      "text/plain": [
       "'dsa'"
      ]
     },
     "execution_count": 9,
     "metadata": {},
     "output_type": "execute_result"
    }
   ],
   "source": [
    "user_in = input(str(\"Enter the name\"))\n",
    "user_in"
   ]
  },
  {
   "cell_type": "code",
   "execution_count": 10,
   "id": "b361b99b",
   "metadata": {},
   "outputs": [],
   "source": [
    "a = \"Hello my friends .  \""
   ]
  },
  {
   "cell_type": "code",
   "execution_count": 15,
   "id": "7115a163",
   "metadata": {},
   "outputs": [
    {
     "data": {
      "text/plain": [
       "'y frie'"
      ]
     },
     "execution_count": 15,
     "metadata": {},
     "output_type": "execute_result"
    }
   ],
   "source": [
    "a[-8:-2]"
   ]
  },
  {
   "cell_type": "code",
   "execution_count": 20,
   "id": "f1a57628",
   "metadata": {},
   "outputs": [
    {
     "data": {
      "text/plain": [
       "15"
      ]
     },
     "execution_count": 20,
     "metadata": {},
     "output_type": "execute_result"
    }
   ],
   "source": [
    "len(a)"
   ]
  },
  {
   "cell_type": "code",
   "execution_count": 5,
   "id": "92c19953",
   "metadata": {},
   "outputs": [],
   "source": [
    "a.strip()"
   ]
  },
  {
   "cell_type": "code",
   "execution_count": 9,
   "id": "bbd2e951",
   "metadata": {},
   "outputs": [
    {
     "ename": "NameError",
     "evalue": "name 'a' is not defined",
     "output_type": "error",
     "traceback": [
      "\u001b[1;31m---------------------------------------------------------------------------\u001b[0m",
      "\u001b[1;31mNameError\u001b[0m                                 Traceback (most recent call last)",
      "\u001b[1;32m<ipython-input-9-8db8f2363a9c>\u001b[0m in \u001b[0;36m<module>\u001b[1;34m\u001b[0m\n\u001b[1;32m----> 1\u001b[1;33m \u001b[0ma\u001b[0m\u001b[1;33m.\u001b[0m\u001b[0mlower\u001b[0m\u001b[1;33m(\u001b[0m\u001b[1;33m)\u001b[0m\u001b[1;33m.\u001b[0m\u001b[0mstrip\u001b[0m\u001b[1;33m(\u001b[0m\u001b[1;33m)\u001b[0m\u001b[1;33m\u001b[0m\u001b[1;33m\u001b[0m\u001b[0m\n\u001b[0m",
      "\u001b[1;31mNameError\u001b[0m: name 'a' is not defined"
     ]
    }
   ],
   "source": [
    "a.lowe"
   ]
  },
  {
   "cell_type": "code",
   "execution_count": 8,
   "id": "8663abd5",
   "metadata": {},
   "outputs": [
    {
     "ename": "NameError",
     "evalue": "name 'a' is not defined",
     "output_type": "error",
     "traceback": [
      "\u001b[1;31m---------------------------------------------------------------------------\u001b[0m",
      "\u001b[1;31mNameError\u001b[0m                                 Traceback (most recent call last)",
      "\u001b[1;32m<ipython-input-8-b9d8f89049c4>\u001b[0m in \u001b[0;36m<module>\u001b[1;34m\u001b[0m\n\u001b[1;32m----> 1\u001b[1;33m \u001b[0ma\u001b[0m\u001b[1;33m.\u001b[0m\u001b[0mupper\u001b[0m\u001b[1;33m(\u001b[0m\u001b[1;33m)\u001b[0m\u001b[1;33m\u001b[0m\u001b[1;33m\u001b[0m\u001b[0m\n\u001b[0m",
      "\u001b[1;31mNameError\u001b[0m: name 'a' is not defined"
     ]
    }
   ],
   "source": [
    "a.upper()"
   ]
  },
  {
   "cell_type": "code",
   "execution_count": 18,
   "id": "8137d1ad",
   "metadata": {},
   "outputs": [
    {
     "name": "stdout",
     "output_type": "stream",
     "text": [
      " Hello Bangladesh\n"
     ]
    }
   ],
   "source": [
    "var1 = \" Hello           Bangladesh\"\n",
    "print(var1)"
   ]
  },
  {
   "cell_type": "code",
   "execution_count": 21,
   "id": "52ff65af",
   "metadata": {},
   "outputs": [
    {
     "data": {
      "text/plain": [
       "['HELLO', 'BANGLADESH']"
      ]
     },
     "execution_count": 21,
     "metadata": {},
     "output_type": "execute_result"
    }
   ],
   "source": [
    "var1.strip().upper().split()"
   ]
  },
  {
   "cell_type": "code",
   "execution_count": 23,
   "id": "41d53b20",
   "metadata": {},
   "outputs": [
    {
     "data": {
      "text/plain": [
       "True"
      ]
     },
     "execution_count": 23,
     "metadata": {},
     "output_type": "execute_result"
    }
   ],
   "source": [
    "\"Bangladesh\"in var1"
   ]
  },
  {
   "cell_type": "code",
   "execution_count": 25,
   "id": "19c4cc61",
   "metadata": {},
   "outputs": [
    {
     "data": {
      "text/plain": [
       "'Welcome to domainThis our new world'"
      ]
     },
     "execution_count": 25,
     "metadata": {},
     "output_type": "execute_result"
    }
   ],
   "source": [
    "sentence1 =\"Welcome to domain\"\n",
    "sentence2 = \"This our new world\"\n",
    "sentence1+sentence2"
   ]
  },
  {
   "cell_type": "code",
   "execution_count": 27,
   "id": "2b40fd5b",
   "metadata": {},
   "outputs": [
    {
     "data": {
      "text/plain": [
       "'My age is 10'"
      ]
     },
     "execution_count": 27,
     "metadata": {},
     "output_type": "execute_result"
    }
   ],
   "source": [
    "age = 10\n",
    "text = \"My age is {}\"\n",
    "text.format(age)"
   ]
  },
  {
   "cell_type": "code",
   "execution_count": 54,
   "id": "ccdc8341",
   "metadata": {},
   "outputs": [
    {
     "name": "stdout",
     "output_type": "stream",
     "text": [
      "enter the word My\n"
     ]
    },
    {
     "data": {
      "text/plain": [
       "True"
      ]
     },
     "execution_count": 54,
     "metadata": {},
     "output_type": "execute_result"
    }
   ],
   "source": [
    "va1= (\"Welcome to my family\")\n",
    "ein1 =input (\"enter the word \")\n",
    "ein1 =ein1.lower()\n",
    "ein1 in va1.lower()"
   ]
  }
 ],
 "metadata": {
  "kernelspec": {
   "display_name": "Python 3",
   "language": "python",
   "name": "python3"
  },
  "language_info": {
   "codemirror_mode": {
    "name": "ipython",
    "version": 3
   },
   "file_extension": ".py",
   "mimetype": "text/x-python",
   "name": "python",
   "nbconvert_exporter": "python",
   "pygments_lexer": "ipython3",
   "version": "3.6.13"
  }
 },
 "nbformat": 4,
 "nbformat_minor": 5
}
