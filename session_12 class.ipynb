{
 "cells": [
  {
   "cell_type": "code",
   "execution_count": 2,
   "id": "c3f1834a",
   "metadata": {},
   "outputs": [
    {
     "name": "stdout",
     "output_type": "stream",
     "text": [
      "Hanif\n",
      "ID No 21105005\n",
      "Student can read\n",
      "None\n",
      "Student can write\n",
      "None\n"
     ]
    }
   ],
   "source": [
    "class Student :\n",
    "    Name=\"Hanif\"\n",
    "    Id= 21105006\n",
    "    Dept=\"CSE\"\n",
    "    Batch=\"Spring21\"\n",
    "    def read(self):\n",
    "        Id=21105005\n",
    "        print(\"ID No\",Id)\n",
    "        print(\"Student can read\")\n",
    "    def write(self):\n",
    "        print(\"Student can write\")\n",
    "st1=Student()\n",
    "print(st1.Name)\n",
    "print(st1.read())\n",
    "print(st1.write())\n",
    "        "
   ]
  },
  {
   "cell_type": "code",
   "execution_count": null,
   "id": "257f0d51",
   "metadata": {},
   "outputs": [],
   "source": []
  }
 ],
 "metadata": {
  "kernelspec": {
   "display_name": "Python 3",
   "language": "python",
   "name": "python3"
  },
  "language_info": {
   "codemirror_mode": {
    "name": "ipython",
    "version": 3
   },
   "file_extension": ".py",
   "mimetype": "text/x-python",
   "name": "python",
   "nbconvert_exporter": "python",
   "pygments_lexer": "ipython3",
   "version": "3.6.13"
  }
 },
 "nbformat": 4,
 "nbformat_minor": 5
}
